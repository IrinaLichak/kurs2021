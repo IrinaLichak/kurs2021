{
 "cells": [
  {
   "cell_type": "markdown",
   "metadata": {},
   "source": [
    "## Задание 1"
   ]
  },
  {
   "cell_type": "code",
   "execution_count": 10,
   "metadata": {},
   "outputs": [
    {
     "name": "stdout",
     "output_type": "stream",
     "text": [
      "test\n",
      "es\n"
     ]
    }
   ],
   "source": [
    "word = input()\n",
    "a = len(word)\n",
    "if a % 2 == 0:\n",
    "    print(word[a//2-1:a//2+1])\n",
    "else:\n",
    "    print(word[a//2])"
   ]
  },
  {
   "cell_type": "markdown",
   "metadata": {},
   "source": [
    "## Задание 2"
   ]
  },
  {
   "cell_type": "code",
   "execution_count": 15,
   "metadata": {},
   "outputs": [
    {
     "name": "stdout",
     "output_type": "stream",
     "text": [
      "Введите число:0\n",
      "0\n"
     ]
    }
   ],
   "source": [
    "a = int(input('Введите число: '))\n",
    "s = 0\n",
    "while a != 0:\n",
    "    s += a\n",
    "    a = int(input('Введите число: '))\n",
    "print(s)"
   ]
  },
  {
   "cell_type": "markdown",
   "metadata": {},
   "source": [
    "## Задание 3"
   ]
  },
  {
   "cell_type": "code",
   "execution_count": 19,
   "metadata": {},
   "outputs": [
    {
     "name": "stdout",
     "output_type": "stream",
     "text": [
      "Внимание, кто-то может остаться без пары!\n"
     ]
    }
   ],
   "source": [
    "boys = ['Peter', 'Alex', 'John', 'Arthur', 'Richard','Michael']\n",
    "girls = ['Kate', 'Liza', 'Kira', 'Emma', 'Trisha']\n",
    "if len(boys)-len(girls)==0:\n",
    "    boys = sorted(boys)\n",
    "    girls = sorted(girls)\n",
    "    x = 0\n",
    "    print('Идеальные пары:')\n",
    "    for pair in boys:\n",
    "        print(boys[x], 'и', girls[x])\n",
    "        x += 1\n",
    "else:\n",
    "    print('Внимание, кто-то может остаться без пары!')"
   ]
  },
  {
   "cell_type": "markdown",
   "metadata": {},
   "source": [
    "## Задание 4"
   ]
  },
  {
   "cell_type": "code",
   "execution_count": 23,
   "metadata": {},
   "outputs": [
    {
     "name": "stdout",
     "output_type": "stream",
     "text": [
      "Thailand - 23.9 C\n",
      "Germany - 13.8 C\n",
      "Russia - 3.7 C\n",
      "Poland - 12.0 C\n"
     ]
    }
   ],
   "source": [
    "countries_temperature = [\n",
    "['Thailand', [75.2, 77, 78.8, 73.4, 68, 75.2, 77]],\n",
    "['Germany', [57.2, 55.4, 59, 59, 53.6]],\n",
    "['Russia', [35.6, 37.4, 39.2, 41, 42.8, 39.2, 35.6]],\n",
    "['Poland', [50, 50, 53.6, 57.2, 55.4, 55.4]]\n",
    "]\n",
    "for i in countries_temperature:\n",
    "    c = (sum(i[1])/len(i[1])-32)/1.8\n",
    "    c = round(c, 1)\n",
    "    print(i[0],'-', c, 'C')"
   ]
  },
  {
   "cell_type": "markdown",
   "metadata": {},
   "source": [
    "## Задание 5"
   ]
  },
  {
   "cell_type": "code",
   "execution_count": 33,
   "metadata": {},
   "outputs": [
    {
     "name": "stdout",
     "output_type": "stream",
     "text": [
      "Среднее количество просмотров на уникального пользователя: 145.33\n"
     ]
    }
   ],
   "source": [
    "\"\"\"stream = [\n",
    "'2018-01-01,user1,3',\n",
    "'2018-01-07,user1,4',\n",
    "'2018-03-29,user1,1',\n",
    "'2018-04-04,user1,13',\n",
    "'2018-01-05,user2,7',\n",
    "'2018-06-14,user3,4',\n",
    "'2018-07-02,user3,10',\n",
    "'2018-03-21,user4,19',\n",
    "'2018-03-22,user4,4',\n",
    "'2018-04-22,user4,8',\n",
    "'2018-05-03,user4,9',\n",
    "'2018-05-11,user4,11'\n",
    "]\"\"\"\n",
    "stream = [\n",
    "'2018-01-01,user100,150',\n",
    "'2018-01-07,user99,205',\n",
    "'2018-03-29,user1001,81',\n",
    "]\n",
    "s = 0\n",
    "u = 0\n",
    "d = 0\n",
    "for i in stream:\n",
    "    i = i.split(',')\n",
    "    s += int(i[2])\n",
    "    if i[1] != d:\n",
    "        u +=1\n",
    "        d = i[1]\n",
    "    else:\n",
    "        pass\n",
    "print('Среднее количество просмотров на уникального пользователя:', round(s/u, 2))"
   ]
  },
  {
   "cell_type": "markdown",
   "metadata": {},
   "source": [
    "## Задание 6"
   ]
  },
  {
   "cell_type": "code",
   "execution_count": 45,
   "metadata": {},
   "outputs": [
    {
     "name": "stdout",
     "output_type": "stream",
     "text": [
      "1 1 1 1 1 2 2 2\n",
      "1 2\n"
     ]
    }
   ],
   "source": [
    "a = input()\n",
    "a = a.split(' ')\n",
    "a = sorted(a)\n",
    "b = []\n",
    "for i in a:\n",
    "    if a.count(i)>1 and b.count(i)<1:\n",
    "        b.append(i)\n",
    "    else:\n",
    "        pass\n",
    "print(' '.join(b))"
   ]
  }
 ],
 "metadata": {
  "kernelspec": {
   "display_name": "Python 3",
   "language": "python",
   "name": "python3"
  },
  "language_info": {
   "codemirror_mode": {
    "name": "ipython",
    "version": 3
   },
   "file_extension": ".py",
   "mimetype": "text/x-python",
   "name": "python",
   "nbconvert_exporter": "python",
   "pygments_lexer": "ipython3",
   "version": "3.8.5"
  }
 },
 "nbformat": 4,
 "nbformat_minor": 4
}
