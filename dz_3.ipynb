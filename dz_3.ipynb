{
 "cells": [
  {
   "cell_type": "code",
   "execution_count": 2,
   "metadata": {},
   "outputs": [
    {
     "name": "stdout",
     "output_type": "stream",
     "text": [
      "{98, 35, 15, 213, 54, 119}\n"
     ]
    }
   ],
   "source": [
    "#Задание 1\n",
    "ids = {'user1': [213, 213, 213, 15, 213], 'user2': [54, 54, 119, 119, 119], 'user3': [213, 98, 98, 35]}\n",
    "result = []\n",
    "for geo in ids.values():\n",
    "  result += geo\n",
    "print(set(result))"
   ]
  },
  {
   "cell_type": "code",
   "execution_count": 3,
   "metadata": {},
   "outputs": [
    {
     "name": "stdout",
     "output_type": "stream",
     "text": [
      "Поисковых запросов, содержащих 3 слов(а): 57.14 %\n",
      "Поисковых запросов, содержащих 2 слов(а): 42.86 %\n"
     ]
    }
   ],
   "source": [
    "#Задание 2\n",
    "queries = [ 'смотреть сериалы онлайн', 'новости спорта', 'афиша кино', 'курс доллара', 'сериалы этим летом', 'курс по питону', 'сериалы про спорт']\n",
    "words = {}\n",
    "count_el = 0\n",
    "for query in queries:\n",
    "  a = query.count(' ') + 1\n",
    "  words.setdefault(a, 0)\n",
    "  words[a] += 1\n",
    "  count_el += 1\n",
    "for key, value in words.items():\n",
    "  print('Поисковых запросов, содержащих', key, 'слов(а):', round(value*100/count_el, 2),'%')"
   ]
  },
  {
   "cell_type": "code",
   "execution_count": 12,
   "metadata": {},
   "outputs": [
    {
     "data": {
      "text/plain": [
       "{'vk': {'revenue': 103, 'cost': 98, 'ROI': 5.1},\n",
       " 'yandex': {'revenue': 179, 'cost': 153, 'ROI': 16.99},\n",
       " 'facebook': {'revenue': 103, 'cost': 110, 'ROI': -6.36},\n",
       " 'adwords': {'revenue': 35, 'cost': 34, 'ROI': 2.94},\n",
       " 'twitter': {'revenue': 11, 'cost': 24, 'ROI': -54.17}}"
      ]
     },
     "execution_count": 12,
     "metadata": {},
     "output_type": "execute_result"
    }
   ],
   "source": [
    "#Задание 3\n",
    "results = {\n",
    "'vk': {'revenue': 103, 'cost': 98},\n",
    "'yandex': {'revenue': 179, 'cost': 153},\n",
    "'facebook': {'revenue': 103, 'cost': 110},\n",
    "'adwords': {'revenue': 35, 'cost': 34},\n",
    "'twitter': {'revenue': 11, 'cost': 24},\n",
    "}\n",
    "for source in results:\n",
    "  roi = round((results[source]['revenue'] / results[source]['cost'] - 1) * 100, 2)\n",
    "  results[source]['ROI'] = roi # Можно здесь расчет roi вставить, не используя переменную, но получится очень грамоздко и менее читаемо. \n",
    "results # Нужно ли здесь использовать функцию print? Или и так корректно?"
   ]
  },
  {
   "cell_type": "code",
   "execution_count": 5,
   "metadata": {},
   "outputs": [
    {
     "name": "stdout",
     "output_type": "stream",
     "text": [
      "Максимальный объем продаж на рекламном канале: vk\n"
     ]
    }
   ],
   "source": [
    "#Задание 4\n",
    "stats = {'facebook': 55, 'yandex': 115, 'vk': 120, 'google': 99, 'email': 42, 'ok': 98}\n",
    "list_value = [list_value for list_value in stats.values()]\n",
    "for channal, value in stats.items():\n",
    "  if value == max(list_value):\n",
    "    print('Максимальный объем продаж на рекламном канале:', channal)"
   ]
  },
  {
   "cell_type": "code",
   "execution_count": 7,
   "metadata": {},
   "outputs": [
    {
     "data": {
      "text/plain": [
       "{'yandex': {'cpc': 100}, '2018-01-01': {...}}"
      ]
     },
     "execution_count": 7,
     "metadata": {},
     "output_type": "execute_result"
    }
   ],
   "source": [
    "#Задание 5 \n",
    "#Знаю, что неправильно, уже посмотрела разборную. Просто оставлю здесь свои размышления.\n",
    "my_list = ['2018-01-01', 'yandex', 'cpc', 100]\n",
    "#my_list = ['a', 'b', 'c', 'd', 'e', 'f']\n",
    "value_0 = my_list[-1]\n",
    "dict_0 = {}\n",
    "dict_result = {my_list[-2]: my_list[-1]}\n",
    "my_list.reverse()\n",
    "for a in my_list[2::]:\n",
    "  dict_0[a] = dict_result\n",
    "  dict_result = dict_0\n",
    "dict_result"
   ]
  }
 ],
 "metadata": {
  "kernelspec": {
   "display_name": "Python 3",
   "language": "python",
   "name": "python3"
  },
  "language_info": {
   "codemirror_mode": {
    "name": "ipython",
    "version": 3
   },
   "file_extension": ".py",
   "mimetype": "text/x-python",
   "name": "python",
   "nbconvert_exporter": "python",
   "pygments_lexer": "ipython3",
   "version": "3.8.5"
  }
 },
 "nbformat": 4,
 "nbformat_minor": 4
}
