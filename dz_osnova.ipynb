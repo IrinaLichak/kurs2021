{
 "cells": [
  {
   "cell_type": "markdown",
   "metadata": {},
   "source": [
    "## Задание 1"
   ]
  },
  {
   "cell_type": "code",
   "execution_count": 3,
   "metadata": {},
   "outputs": [
    {
     "name": "stdout",
     "output_type": "stream",
     "text": [
      "Насколько проще было бы писать программы, если бы не заказчики\n",
      "Насколько проще было бы писать программы, если бы не заказчики\n",
      "Фразы равной длины\n"
     ]
    }
   ],
   "source": [
    "phrase_1 = input()\n",
    "phrase_2 = input()\n",
    "if len(phrase_1) > len(phrase_2):\n",
    "    print('Фраза 1 длиннее фразы 2')\n",
    "elif len(phrase_1) < len(phrase_2):\n",
    "    print('Фраза 2 длиннее фразы 1')\n",
    "else:\n",
    "    print('Фразы равной длины')"
   ]
  },
  {
   "cell_type": "markdown",
   "metadata": {},
   "source": [
    "## Задание 2"
   ]
  },
  {
   "cell_type": "code",
   "execution_count": 5,
   "metadata": {},
   "outputs": [
    {
     "name": "stdout",
     "output_type": "stream",
     "text": [
      "2019\n",
      "Обычный год\n"
     ]
    }
   ],
   "source": [
    "year = int(input())\n",
    "if year % 4 == 0 and year % 100 != 0 or year % 400 == 0:\n",
    "  print('Високосный год')\n",
    "else:\n",
    "  print('Обычный год')"
   ]
  },
  {
   "cell_type": "markdown",
   "metadata": {},
   "source": [
    "## Задание 3"
   ]
  },
  {
   "cell_type": "code",
   "execution_count": 9,
   "metadata": {},
   "outputs": [
    {
     "name": "stdout",
     "output_type": "stream",
     "text": [
      "Введите день:4\n",
      "Введите месяц:Апрель\n",
      "Ваш знак зодиака: Овен\n"
     ]
    }
   ],
   "source": [
    "d = int(input('Введите день:'))\n",
    "m = input('Введите месяц:')\n",
    "if m == 'Январь':\n",
    "    if d <= 19:\n",
    "        print('Ваш знак зодиака: Козерог')\n",
    "    else:\n",
    "        print('Ваш знак зодиака: Водолей')\n",
    "elif m == 'Февраль':\n",
    "    if d <= 19:\n",
    "        print('Ваш знак зодиака: Водолей')\n",
    "    else:\n",
    "        print('Ваш знак зодиака: Рыбы')\n",
    "elif m == 'Март':\n",
    "    if d <= 20:\n",
    "        print('Ваш знак зодиака: Рыбы')\n",
    "    else:\n",
    "        print('Ваш знак зодиака: Овен')\n",
    "elif m == 'Апрель':\n",
    "    if d <= 19:\n",
    "        print('Ваш знак зодиака: Овен')\n",
    "    else:\n",
    "        print('Ваш знак зодиака: Телец')\n",
    "elif m == 'Май':\n",
    "    if d <= 20:\n",
    "        print('Ваш знак зодиака: Телец')\n",
    "    else:\n",
    "        print('Ваш знак зодиака: Близнецы')\n",
    "elif m == 'Июнь':\n",
    "    if d <= 20:\n",
    "        print('Ваш знак зодиака: Близнецы')\n",
    "    else:\n",
    "        print('Ваш знак зодиака: Рак')\n",
    "elif m == 'Июль':\n",
    "    if d <= 22:\n",
    "        print('Ваш знак зодиака: Рак')\n",
    "    else:\n",
    "        print('Ваш знак зодиака: Лев')\n",
    "elif m == 'Август':\n",
    "    if d <= 22:\n",
    "        print('Ваш знак зодиака: Лев')\n",
    "    else:\n",
    "        print('Ваш знак зодиака: Дева')\n",
    "elif m == 'Сентябрь':\n",
    "    if d <= 22:\n",
    "        print('Ваш знак зодиака: Дева')\n",
    "    else:\n",
    "        print('Ваш знак зодиака: Весы')\n",
    "elif m == 'Октябрь':\n",
    "    if d <= 23:\n",
    "        print('Ваш знак зодиака: Весы')\n",
    "    else:\n",
    "        print('Ваш знак зодиака: Скорпион')\n",
    "elif m == 'Ноябрь':\n",
    "    if d <= 22:\n",
    "        print('Ваш знак зодиака: Скорпион')\n",
    "    else:\n",
    "        print('Ваш знак зодиака: Стрелец')\n",
    "elif m == 'Декабрь':\n",
    "    if d <= 21:\n",
    "        print('Ваш знак зодиака: Стрелец')\n",
    "    else:\n",
    "        print('Ваш знак зодиака: Козерог')"
   ]
  },
  {
   "cell_type": "markdown",
   "metadata": {},
   "source": [
    "## Задание 4"
   ]
  },
  {
   "cell_type": "code",
   "execution_count": 13,
   "metadata": {},
   "outputs": [
    {
     "name": "stdout",
     "output_type": "stream",
     "text": [
      "120\n",
      "60\n",
      "100\n",
      "Стандартная коробка №3\n"
     ]
    }
   ],
   "source": [
    "width = int(input())\n",
    "length = int(input())\n",
    "height = int(input())\n",
    "if width < 15 and length < 15 and height < 15:\n",
    "    print('Коробка №1')\n",
    "elif 15 <= width < 50 or 15 <= length < 50 or 15 <= height < 50:\n",
    "    print('Коробка №2')\n",
    "elif width > 200 or length > 200 or height > 200:\n",
    "    print('Упаковка для лыж')\n",
    "else:\n",
    "    print('Стандартная коробка №3')"
   ]
  },
  {
   "cell_type": "markdown",
   "metadata": {},
   "source": [
    "## Задание 5"
   ]
  },
  {
   "cell_type": "code",
   "execution_count": 15,
   "metadata": {},
   "outputs": [
    {
     "name": "stdout",
     "output_type": "stream",
     "text": [
      "123321\n",
      "Счастливый билет\n"
     ]
    }
   ],
   "source": [
    "n = int(input())\n",
    "a = n // 100000\n",
    "b = (n % 100000) // 10000\n",
    "c = (n % 10000) // 1000\n",
    "d = (n % 1000) // 100\n",
    "i = (n % 100) // 10\n",
    "f = n % 10\n",
    "s1 = a+b+c\n",
    "s2 = d+i+f\n",
    "if s1 == s2:\n",
    "  print('Счастливый билет')\n",
    "else:\n",
    "  print('Несчастливый билет')"
   ]
  },
  {
   "cell_type": "markdown",
   "metadata": {},
   "source": [
    "## Задание 6"
   ]
  },
  {
   "cell_type": "code",
   "execution_count": 17,
   "metadata": {},
   "outputs": [
    {
     "name": "stdout",
     "output_type": "stream",
     "text": [
      "Введите тип фигуры:Треугольник\n",
      "Введите длину стороны A:2\n",
      "Введите длину стороны B:2\n",
      "Введите длину стороны C:3\n",
      "Площадь треугольника: 1.984313483298443\n"
     ]
    }
   ],
   "source": [
    "f = str(input('Введите тип фигуры:'))\n",
    "if f == 'Треугольник':\n",
    "  a = int(input('Введите длину стороны A:'))\n",
    "  b = int(input('Введите длину стороны B:'))\n",
    "  c = int(input('Введите длину стороны C:'))\n",
    "  p = (a+b+c)/2\n",
    "  S = (p*(p-a)*(p-b)*(p-c))**0.5\n",
    "  print ('Площадь треугольника:', S)\n",
    "elif f == 'Прямоугольник':\n",
    "  a = int(input('Введите длину стороны A:'))\n",
    "  b = int(input('Введите длину стороны B:'))\n",
    "  S = float(a*b)\n",
    "  print ('Площадь прямоугольника:', S)\n",
    "elif f == 'Круг':\n",
    "  pi = 3.14\n",
    "  r = int(input('Введите радиус круга:'))\n",
    "  S = pi*r**2\n",
    "  print ('Площадь круга:', S)"
   ]
  }
 ],
 "metadata": {
  "kernelspec": {
   "display_name": "Python 3",
   "language": "python",
   "name": "python3"
  },
  "language_info": {
   "codemirror_mode": {
    "name": "ipython",
    "version": 3
   },
   "file_extension": ".py",
   "mimetype": "text/x-python",
   "name": "python",
   "nbconvert_exporter": "python",
   "pygments_lexer": "ipython3",
   "version": "3.8.5"
  }
 },
 "nbformat": 4,
 "nbformat_minor": 4
}
